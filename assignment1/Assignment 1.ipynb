{
 "cells": [
  {
   "cell_type": "code",
   "execution_count": 1,
   "metadata": {},
   "outputs": [],
   "source": [
    "import numpy as np\n",
    "import pandas as pd\n",
    "import matplotlib.pyplot as plt"
   ]
  },
  {
   "cell_type": "code",
   "execution_count": 2,
   "metadata": {
    "scrolled": false
   },
   "outputs": [
    {
     "name": "stdout",
     "output_type": "stream",
     "text": [
      "Length Dataframe: 165\n"
     ]
    }
   ],
   "source": [
    "df = pd.read_csv(\"life-expectancy-vs-gdp-per-capita.csv\")\n",
    "df = df[df['Year'] == 2018]\n",
    "\n",
    "#df.columns\n",
    "\n",
    "df.dropna(subset=['Life expectancy at birth (historical)','GDP per capita' ], inplace=True)\n",
    "\n",
    "df = df[df['Entity'] != 'World']\n",
    "df = df[df['Entity'] != 'Africa']\n",
    "df = df[df['Entity'] != 'Americas']\n",
    "df = df[df['Entity'] != 'Asia']\n",
    "df = df[df['Entity'] != 'East Asia']\n",
    "df = df[df['Entity'] != 'Eastern Europe']\n",
    "df = df[df['Entity'] != 'Europe']\n",
    "df = df[df['Entity'] != 'Latin America and the Caribbean']\n",
    "df = df[df['Entity'] != 'North America']\n",
    "df = df[df['Entity'] != 'Northern America']\n",
    "df = df[df['Entity'] != 'Oceania']\n",
    "df = df[df['Entity'] != 'North America']\n",
    "df = df[df['Entity'] != 'South America']\n",
    "\n",
    "print('Length Dataframe:', len(df))\n",
    "\n",
    "gdp_capita = np.array(df['GDP per capita'])\n",
    "life_exp = np.array(df['Life expectancy at birth (historical)'])"
   ]
  },
  {
   "cell_type": "code",
   "execution_count": 3,
   "metadata": {},
   "outputs": [
    {
     "data": {
      "image/png": "[encoded data removed]",
      "text/plain": [
       "<Figure size 432x288 with 1 Axes>"
      ]
     },
     "metadata": {},
     "output_type": "display_data"
    }
   ],
   "source": [
    "# Assignment 1a\n",
    "\n",
    "plt.scatter(gdp_capita, life_exp)\n",
    "plt.title(\"Life expectancy versus GDP per capita in 2018\")\n",
    "plt.xlabel(\"GDP per Capita ($)\")\n",
    "plt.ylabel(\"Life expectancy\")\n",
    "plt.xscale('log')\n"
   ]
  },
  {
   "cell_type": "markdown",
   "metadata": {},
   "source": [
    "We filtered the data on year (we chose the most recent: 2018) and also removed the entities that were not countries"
   ]
  },
  {
   "cell_type": "code",
   "execution_count": 4,
   "metadata": {
    "scrolled": false
   },
   "outputs": [],
   "source": [
    "# Assignment 1b\n",
    "\n",
    "life = pd.read_csv(\"life-expectancy.csv\")\n",
    "# df = df[df['Year'] == 2018]\n",
    "# df = df[df['Entity'] != 'World']\n",
    "# df = df[df['Entity'] != 'Africa']\n",
    "# df = df[df['Entity'] != 'Americas']\n",
    "# df = df[df['Entity'] != 'Asia']\n",
    "# df = df[df['Entity'] != 'East Asia']\n",
    "# df = df[df['Entity'] != 'Eastern Europe']\n",
    "# df = df[df['Entity'] != 'Europe']\n",
    "# df = df[df['Entity'] != 'Latin America and the Caribbean']\n",
    "# df = df[df['Entity'] != 'North America']\n",
    "# df = df[df['Entity'] != 'Northern America']\n",
    "# df = df[df['Entity'] != 'Oceania']\n",
    "# df = df[df['Entity'] != 'North America']\n",
    "# df = df[df['Entity'] != 'South America']\n",
    "#df.describe()\n",
    "\n",
    "#print(long_life['Entity'].to_string(index=False))"
   ]
  },
  {
   "cell_type": "code",
   "execution_count": 5,
   "metadata": {},
   "outputs": [
    {
     "name": "stdout",
     "output_type": "stream",
     "text": [
      "The mean of life expectancy in 2018 is: 72.63 years\n",
      "The standard deviation of life expectancy in 2018 is: 7.80 years\n",
      "Australia\n",
      "       Austria\n",
      "       Belgium\n",
      "        Canada\n",
      "        Cyprus\n",
      "       Denmark\n",
      "       Finland\n",
      "        France\n",
      "       Germany\n",
      "        Greece\n",
      "     Hong Kong\n",
      "       Iceland\n",
      "       Ireland\n",
      "        Israel\n",
      "         Italy\n",
      "         Japan\n",
      "    Luxembourg\n",
      "         Malta\n",
      "   Netherlands\n",
      "   New Zealand\n",
      "        Norway\n",
      "      Portugal\n",
      "         Qatar\n",
      "     Singapore\n",
      "      Slovenia\n",
      "   South Korea\n",
      "         Spain\n",
      "        Sweden\n",
      "   Switzerland\n",
      "        Taiwan\n",
      "United Kingdom\n"
     ]
    }
   ],
   "source": [
    "mean_life = df['Life expectancy at birth (historical)'].describe(include='all').loc['mean']\n",
    "std_life = df['Life expectancy at birth (historical)'].describe(include='all').loc['std']\n",
    "\n",
    "print(\"The mean of life expectancy in 2018 is: {:.2f} years\".format(mean_life))\n",
    "print(\"The standard deviation of life expectancy in 2018 is: {:.2f} years\".format(std_life))\n",
    "\n",
    "long_life = df[df['Life expectancy at birth (historical)'] > mean_life+std_life]\n",
    "\n",
    "print(long_life['Entity'].to_string(index=False))"
   ]
  },
  {
   "cell_type": "code",
   "execution_count": 13,
   "metadata": {
    "scrolled": false
   },
   "outputs": [
    {
     "name": "stdout",
     "output_type": "stream",
     "text": [
      "         Year  Life expectancy at birth (historical)  GDP per capita  \\\n",
      "count   165.0                             165.000000      165.000000   \n",
      "mean   2018.0                              72.632121    19053.786587   \n",
      "std       0.0                               7.795691    20346.341739   \n",
      "min    2018.0                              52.600000      623.488900   \n",
      "25%    2018.0                              66.300000     4440.382000   \n",
      "50%    2018.0                              74.000000    12165.795000   \n",
      "75%    2018.0                              78.700000    27370.555000   \n",
      "max    2018.0                              85.200000   153764.170000   \n",
      "\n",
      "       Population (historical estimates)  GDP (constant 2015 US$)  \n",
      "count                       1.650000e+02             1.620000e+02  \n",
      "mean                        4.598704e+07             5.017378e+11  \n",
      "std                         1.575906e+08             1.943569e+12  \n",
      "min                         7.084000e+04             3.519714e+08  \n",
      "25%                         4.270717e+06             1.482077e+10  \n",
      "50%                         1.063328e+07             5.524018e+10  \n",
      "75%                         3.239927e+07             2.986896e+11  \n",
      "max                         1.417069e+09             1.955198e+13  \n",
      "Albania\n",
      "                 Armenia\n",
      "                Barbados\n",
      "                   Benin\n",
      "            Burkina Faso\n",
      "                 Burundi\n",
      "              Cape Verde\n",
      "Central African Republic\n",
      "                    Chad\n",
      "                 Comoros\n",
      "                   Congo\n",
      "                Djibouti\n",
      "                Dominica\n",
      "       Equatorial Guinea\n",
      "                Eswatini\n",
      "                  Gambia\n",
      "                  Guinea\n",
      "           Guinea-Bissau\n",
      "                 Jamaica\n",
      "              Kyrgyzstan\n",
      "                 Lesotho\n",
      "                 Liberia\n",
      "              Madagascar\n",
      "                  Malawi\n",
      "                   Malta\n",
      "              Mauritania\n",
      "               Mauritius\n",
      "                 Moldova\n",
      "                Mongolia\n",
      "              Montenegro\n",
      "                 Namibia\n",
      "               Nicaragua\n",
      "                   Niger\n",
      "         North Macedonia\n",
      "                  Rwanda\n",
      "             Saint Lucia\n",
      "   Sao Tome and Principe\n",
      "              Seychelles\n",
      "            Sierra Leone\n",
      "              Tajikistan\n",
      "                    Togo\n"
     ]
    }
   ],
   "source": [
    "# Assignment 1c\n",
    "\n",
    "gdp = pd.read_csv(\"gross-domestic-product.csv\")\n",
    "gdp = gdp[gdp['Year'] == 2018]\n",
    "\n",
    "df_all = pd.merge(df, gdp, how='left')\n",
    "\n",
    "#print(df_all)\n",
    "\n",
    "print(df_all.describe())\n",
    "\n",
    "high_life = df_all['Life expectancy at birth (historical)'].describe(include='all').loc['75%']\n",
    "low_gdp = df_all['GDP (constant 2015 US$)'].describe(include='all').loc['25%']\n",
    "\n",
    "df_all_lohi = df_all[df_all['Life expectancy at birth (historical)']>high_life]\n",
    "df_all_lohi = df_all[df_all['GDP (constant 2015 US$)']<low_gdp]\n",
    "\n",
    "print(df_all_lohi['Entity'].to_string(index=False))\n",
    "\n"
   ]
  },
  {
   "cell_type": "markdown",
   "metadata": {},
   "source": [
    "We defined high as being higher than the 75th percentile and low as being lower than the 25th percentile"
   ]
  },
  {
   "cell_type": "code",
   "execution_count": 14,
   "metadata": {},
   "outputs": [
    {
     "name": "stdout",
     "output_type": "stream",
     "text": [
      "Argentina\n",
      "           Australia\n",
      "             Austria\n",
      "             Belgium\n",
      "              Brazil\n",
      "              Canada\n",
      "               China\n",
      "            Colombia\n",
      "             Denmark\n",
      "               Egypt\n",
      "              France\n",
      "             Germany\n",
      "           Hong Kong\n",
      "               India\n",
      "           Indonesia\n",
      "                Iran\n",
      "             Ireland\n",
      "              Israel\n",
      "               Italy\n",
      "               Japan\n",
      "            Malaysia\n",
      "              Mexico\n",
      "         Netherlands\n",
      "             Nigeria\n",
      "              Norway\n",
      "            Pakistan\n",
      "         Philippines\n",
      "              Poland\n",
      "              Russia\n",
      "        Saudi Arabia\n",
      "           Singapore\n",
      "        South Africa\n",
      "         South Korea\n",
      "               Spain\n",
      "              Sweden\n",
      "         Switzerland\n",
      "            Thailand\n",
      "              Turkey\n",
      "United Arab Emirates\n",
      "      United Kingdom\n",
      "       United States\n",
      "78.7\n"
     ]
    }
   ],
   "source": [
    "# Assignment 1d\n",
    "\n",
    "strong_high = df_all[df_all['Life expectancy at birth (historical)']>df_all['Life expectancy at birth (historical)'].describe(include='all').loc['75%']]\n",
    "strong_high = df_all[df_all['GDP (constant 2015 US$)']>df_all['GDP (constant 2015 US$)'].describe(include='all').loc['75%']]\n",
    "\n",
    "print(strong_high['Entity'].to_string(index=False))\n",
    "\n",
    "print(df_all['Life expectancy at birth (historical)'].describe(include='all').loc['75%'])"
   ]
  },
  {
   "cell_type": "markdown",
   "metadata": {},
   "source": [
    "\n"
   ]
  },
  {
   "cell_type": "code",
   "execution_count": 12,
   "metadata": {},
   "outputs": [
    {
     "name": "stdout",
     "output_type": "stream",
     "text": [
      "Argentina\n",
      "           Australia\n",
      "             Austria\n",
      "             Belgium\n",
      "              Brazil\n",
      "              Canada\n",
      "               China\n",
      "            Colombia\n",
      "             Denmark\n",
      "               Egypt\n",
      "              France\n",
      "             Germany\n",
      "           Hong Kong\n",
      "               India\n",
      "           Indonesia\n",
      "                Iran\n",
      "             Ireland\n",
      "              Israel\n",
      "               Italy\n",
      "               Japan\n",
      "            Malaysia\n",
      "              Mexico\n",
      "         Netherlands\n",
      "             Nigeria\n",
      "              Norway\n",
      "            Pakistan\n",
      "         Philippines\n",
      "              Poland\n",
      "              Russia\n",
      "        Saudi Arabia\n",
      "           Singapore\n",
      "        South Africa\n",
      "         South Korea\n",
      "               Spain\n",
      "              Sweden\n",
      "         Switzerland\n",
      "            Thailand\n",
      "              Turkey\n",
      "United Arab Emirates\n",
      "      United Kingdom\n",
      "       United States\n"
     ]
    }
   ],
   "source": [
    "strong_low = df_all[df_all['Life expectancy at birth (historical)']<df_all['Life expectancy at birth (historical)'].describe(include='all').loc['25%']]\n",
    "strong_low = df_all[df_all['GDP (constant 2015 US$)']>df_all['GDP (constant 2015 US$)'].describe(include='all').loc['75%']]\n",
    "\n",
    "print(strong_low['Entity'].to_string(index=False))"
   ]
  },
  {
   "cell_type": "code",
   "execution_count": null,
   "metadata": {},
   "outputs": [],
   "source": []
  }
 ],
 "metadata": {
  "kernelspec": {
   "display_name": "Python 3",
   "language": "python",
   "name": "python3"
  },
  "language_info": {
   "codemirror_mode": {
    "name": "ipython",
    "version": 3
   },
   "file_extension": ".py",
   "mimetype": "text/x-python",
   "name": "python",
   "nbconvert_exporter": "python",
   "pygments_lexer": "ipython3",
   "version": "3.6.6"
  },
  "latex_envs": {
   "LaTeX_envs_menu_present": true,
   "autoclose": false,
   "autocomplete": true,
   "bibliofile": "biblio.bib",
   "cite_by": "apalike",
   "current_citInitial": 1,
   "eqLabelWithNumbers": true,
   "eqNumInitial": 1,
   "hotkeys": {
    "equation": "Ctrl-E",
    "itemize": "Ctrl-I"
   },
   "labels_anchors": false,
   "latex_user_defs": false,
   "report_style_numbering": false,
   "user_envs_cfg": false
  }
 },
 "nbformat": 4,
 "nbformat_minor": 2
}
