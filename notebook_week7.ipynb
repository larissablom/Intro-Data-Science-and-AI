{
 "cells": [
  {
   "cell_type": "markdown",
   "metadata": {
    "id": "rHoSDyYpdh-s"
   },
   "source": [
    "Assignment 7: Neural Networks using Keras and Tensorflow Please see the associated document for questions\n",
    "\n",
    "If you have problems with Keras and Tensorflow on your local installation please make sure they are updated. On Google Colab this notebook runs."
   ]
  },
  {
   "cell_type": "code",
   "execution_count": 5,
   "metadata": {
    "scrolled": false
   },
   "outputs": [
    {
     "name": "stdout",
     "output_type": "stream",
     "text": [
      "Requirement already satisfied: notebook in c:\\programs\\anaconda3\\lib\\site-packages (5.6.0)\n",
      "Collecting notebook\n",
      "  Using cached notebook-6.4.10-py3-none-any.whl (9.9 MB)\n",
      "Collecting jupyter-core>=4.6.1\n",
      "  Using cached jupyter_core-4.9.2-py3-none-any.whl (86 kB)\n",
      "Requirement already satisfied: nbformat in c:\\programs\\anaconda3\\lib\\site-packages (from notebook) (4.4.0)\n",
      "Requirement already satisfied: pyzmq>=17 in c:\\programs\\anaconda3\\lib\\site-packages (from notebook) (17.0.0)\n",
      "Collecting argon2-cffi\n",
      "  Using cached argon2_cffi-21.3.0-py3-none-any.whl (14 kB)\n",
      "Requirement already satisfied: traitlets>=4.2.1 in c:\\programs\\anaconda3\\lib\\site-packages (from notebook) (4.3.2)\n",
      "Collecting Send2Trash>=1.8.0\n",
      "  Using cached Send2Trash-1.8.2-py3-none-any.whl (18 kB)\n",
      "Collecting tornado>=6.1\n",
      "  Using cached tornado-6.1-cp36-cp36m-win_amd64.whl (422 kB)\n",
      "Requirement already satisfied: jinja2 in c:\\programs\\anaconda3\\lib\\site-packages (from notebook) (2.10)\n",
      "Requirement already satisfied: ipython-genutils in c:\\programs\\anaconda3\\lib\\site-packages (from notebook) (0.2.0)\n",
      "Collecting nest-asyncio>=1.5\n",
      "  Using cached nest_asyncio-1.5.6-py3-none-any.whl (5.2 kB)\n",
      "Requirement already satisfied: nbconvert>=5 in c:\\programs\\anaconda3\\lib\\site-packages (from notebook) (5.3.1)\n",
      "Collecting terminado>=0.8.3\n",
      "  Downloading terminado-0.12.1-py3-none-any.whl (15 kB)\n",
      "Requirement already satisfied: prometheus-client in c:\\programs\\anaconda3\\lib\\site-packages (from notebook) (0.3.1)\n",
      "Collecting jupyter-client>=5.3.4\n",
      "  Using cached jupyter_client-7.1.2-py3-none-any.whl (130 kB)\n",
      "Requirement already satisfied: ipykernel in c:\\programs\\anaconda3\\lib\\site-packages (from notebook) (4.8.2)\n",
      "Requirement already satisfied: python-dateutil>=2.1 in c:\\programs\\anaconda3\\lib\\site-packages (from jupyter-client>=5.3.4->notebook) (2.7.3)\n",
      "Requirement already satisfied: entrypoints in c:\\programs\\anaconda3\\lib\\site-packages (from jupyter-client>=5.3.4->notebook) (0.2.3)\n",
      "Requirement already satisfied: pywin32>=1.0 in c:\\programs\\anaconda3\\lib\\site-packages (from jupyter-core>=4.6.1->notebook) (223)\n",
      "Requirement already satisfied: mistune>=0.7.4 in c:\\programs\\anaconda3\\lib\\site-packages (from nbconvert>=5->notebook) (0.8.3)\n",
      "Requirement already satisfied: pandocfilters>=1.4.1 in c:\\programs\\anaconda3\\lib\\site-packages (from nbconvert>=5->notebook) (1.4.2)\n",
      "Requirement already satisfied: testpath in c:\\programs\\anaconda3\\lib\\site-packages (from nbconvert>=5->notebook) (0.3.1)\n",
      "Requirement already satisfied: bleach in c:\\programs\\anaconda3\\lib\\site-packages (from nbconvert>=5->notebook) (2.1.3)\n",
      "Requirement already satisfied: pygments in c:\\programs\\anaconda3\\lib\\site-packages (from nbconvert>=5->notebook) (2.2.0)\n",
      "Requirement already satisfied: jsonschema!=2.5.0,>=2.4 in c:\\programs\\anaconda3\\lib\\site-packages (from nbformat->notebook) (2.6.0)\n",
      "Collecting pywinpty>=1.1.0\n",
      "  Using cached pywinpty-2.0.3.tar.gz (23 kB)\n",
      "  Installing build dependencies: started\n",
      "  Installing build dependencies: finished with status 'done'\n",
      "  Getting requirements to build wheel: started\n",
      "  Getting requirements to build wheel: finished with status 'done'\n",
      "  Preparing metadata (pyproject.toml): started\n",
      "  Preparing metadata (pyproject.toml): finished with status 'error'\n",
      "  Downloading pywinpty-2.0.2.tar.gz (22 kB)\n",
      "  Installing build dependencies: started\n",
      "  Installing build dependencies: finished with status 'done'\n",
      "  Getting requirements to build wheel: started\n",
      "  Getting requirements to build wheel: finished with status 'done'\n",
      "  Preparing metadata (pyproject.toml): started\n",
      "  Preparing metadata (pyproject.toml): finished with status 'error'\n",
      "  Downloading pywinpty-2.0.1.tar.gz (22 kB)\n",
      "  Installing build dependencies: started\n",
      "  Installing build dependencies: finished with status 'done'\n",
      "  Getting requirements to build wheel: started\n",
      "  Getting requirements to build wheel: finished with status 'done'\n",
      "  Preparing metadata (pyproject.toml): started\n",
      "  Preparing metadata (pyproject.toml): finished with status 'error'\n",
      "  Downloading pywinpty-1.1.6-cp36-none-win_amd64.whl (1.4 MB)\n",
      "Requirement already satisfied: six in c:\\programs\\anaconda3\\lib\\site-packages (from traitlets>=4.2.1->notebook) (1.11.0)\n",
      "Requirement already satisfied: decorator in c:\\programs\\anaconda3\\lib\\site-packages (from traitlets>=4.2.1->notebook) (4.3.0)\n",
      "Collecting typing-extensions\n",
      "  Using cached typing_extensions-4.1.1-py3-none-any.whl (26 kB)\n",
      "Collecting argon2-cffi-bindings\n",
      "  Downloading argon2_cffi_bindings-21.2.0-cp36-abi3-win_amd64.whl (30 kB)\n",
      "Collecting dataclasses\n",
      "  Using cached dataclasses-0.8-py3-none-any.whl (19 kB)\n",
      "Requirement already satisfied: ipython>=4.0.0 in c:\\programs\\anaconda3\\lib\\site-packages (from ipykernel->notebook) (6.5.0)\n",
      "Requirement already satisfied: MarkupSafe>=0.23 in c:\\programs\\anaconda3\\lib\\site-packages (from jinja2->notebook) (1.0)\n",
      "Requirement already satisfied: prompt-toolkit<2.0.0,>=1.0.15 in c:\\programs\\anaconda3\\lib\\site-packages (from ipython>=4.0.0->ipykernel->notebook) (1.0.15)\n",
      "Requirement already satisfied: pickleshare in c:\\programs\\anaconda3\\lib\\site-packages (from ipython>=4.0.0->ipykernel->notebook) (0.7.4)\n",
      "Requirement already satisfied: colorama in c:\\programs\\anaconda3\\lib\\site-packages (from ipython>=4.0.0->ipykernel->notebook) (0.3.9)\n",
      "Requirement already satisfied: jedi>=0.10 in c:\\programs\\anaconda3\\lib\\site-packages (from ipython>=4.0.0->ipykernel->notebook) (0.12.1)\n",
      "Requirement already satisfied: backcall in c:\\programs\\anaconda3\\lib\\site-packages (from ipython>=4.0.0->ipykernel->notebook) (0.1.0)\n",
      "Requirement already satisfied: simplegeneric>0.8 in c:\\programs\\anaconda3\\lib\\site-packages (from ipython>=4.0.0->ipykernel->notebook) (0.8.1)\n",
      "Requirement already satisfied: setuptools>=18.5 in c:\\programs\\anaconda3\\lib\\site-packages (from ipython>=4.0.0->ipykernel->notebook) (39.2.0)\n",
      "Requirement already satisfied: cffi>=1.0.1 in c:\\programs\\anaconda3\\lib\\site-packages (from argon2-cffi-bindings->argon2-cffi->notebook) (1.11.5)\n",
      "Requirement already satisfied: html5lib!=1.0b1,!=1.0b2,!=1.0b3,!=1.0b4,!=1.0b5,!=1.0b6,!=1.0b7,!=1.0b8,>=0.99999999pre in c:\\programs\\anaconda3\\lib\\site-packages (from bleach->nbconvert>=5->notebook) (1.0.1)\n",
      "Requirement already satisfied: pycparser in c:\\programs\\anaconda3\\lib\\site-packages (from cffi>=1.0.1->argon2-cffi-bindings->argon2-cffi->notebook) (2.18)\n",
      "Requirement already satisfied: parso>=0.3.0 in c:\\programs\\anaconda3\\lib\\site-packages (from jedi>=0.10->ipython>=4.0.0->ipykernel->notebook) (0.3.1)\n",
      "Requirement already satisfied: wcwidth in c:\\programs\\anaconda3\\lib\\site-packages (from prompt-toolkit<2.0.0,>=1.0.15->ipython>=4.0.0->ipykernel->notebook) (0.1.7)\n",
      "Installing collected packages: tornado, nest-asyncio, jupyter-core, typing-extensions, pywinpty, jupyter-client, dataclasses, argon2-cffi-bindings, terminado, Send2Trash, argon2-cffi, notebook\n",
      "  Attempting uninstall: tornado\n",
      "    Found existing installation: tornado 5.0.2\n",
      "    Uninstalling tornado-5.0.2:\n",
      "      Successfully uninstalled tornado-5.0.2\n",
      "  Rolling back uninstall of tornado\n",
      "  Moving to c:\\programs\\anaconda3\\lib\\site-packages\\tornado-5.0.2-py3.6.egg-info\n",
      "   from c:\\programs\\anaconda3\\lib\\site-packages\\~ornado-5.0.2-py3.6.egg-info\n"
     ]
    },
    {
     "name": "stderr",
     "output_type": "stream",
     "text": [
      "  ERROR: Command errored out with exit status 1:\n",
      "   command: 'c:\\programs\\anaconda3\\python.exe' 'c:\\programs\\anaconda3\\lib\\site-packages\\pip\\_vendor\\pep517\\in_process\\_in_process.py' prepare_metadata_for_build_wheel 'C:\\Users\\SID-DrW\\AppData\\Local\\Temp\\tmpu52z_412'\n",
      "       cwd: C:\\Users\\SID-DrW\\AppData\\Local\\Temp\\pip-install-qre74170\\pywinpty_376d2490135e46a9ba38cd4f2e3a4fab\n",
      "  Complete output (6 lines):\n",
      "  \n",
      "  Cargo, the Rust package manager, is not installed or is not on PATH.\n",
      "  This package requires Rust and Cargo to compile extensions. Install it through\n",
      "  the system's package manager or via https://rustup.rs/\n",
      "  \n",
      "  Checking for Rust toolchain....\n",
      "  ----------------------------------------\n",
      "WARNING: Discarding https://files.pythonhosted.org/packages/c3/61/bda90dba80bc6cb905acebd0bf0710777ab04feb29d0f438202da0e82d72/pywinpty-2.0.3.tar.gz#sha256=6b29a826e896105370c38d53904c3aaac6c36146a50448fc0ed5082cf9d092bc (from https://pypi.org/simple/pywinpty/) (requires-python:>=3.6). Command errored out with exit status 1: 'c:\\programs\\anaconda3\\python.exe' 'c:\\programs\\anaconda3\\lib\\site-packages\\pip\\_vendor\\pep517\\in_process\\_in_process.py' prepare_metadata_for_build_wheel 'C:\\Users\\SID-DrW\\AppData\\Local\\Temp\\tmpu52z_412' Check the logs for full command output.\n",
      "  ERROR: Command errored out with exit status 1:\n",
      "   command: 'c:\\programs\\anaconda3\\python.exe' 'c:\\programs\\anaconda3\\lib\\site-packages\\pip\\_vendor\\pep517\\in_process\\_in_process.py' prepare_metadata_for_build_wheel 'C:\\Users\\SID-DrW\\AppData\\Local\\Temp\\tmplb470pzc'\n",
      "       cwd: C:\\Users\\SID-DrW\\AppData\\Local\\Temp\\pip-install-qre74170\\pywinpty_bfe7bda91e424e0fbc5191cf534c342d\n",
      "  Complete output (6 lines):\n",
      "  \n",
      "  Cargo, the Rust package manager, is not installed or is not on PATH.\n",
      "  This package requires Rust and Cargo to compile extensions. Install it through\n",
      "  the system's package manager or via https://rustup.rs/\n",
      "  \n",
      "  Checking for Rust toolchain....\n",
      "  ----------------------------------------\n",
      "WARNING: Discarding https://files.pythonhosted.org/packages/43/88/f7d9b3b45a8b6109f60702cfa3b011edf7cfd8d2680f738bc4d1cb120897/pywinpty-2.0.2.tar.gz#sha256=20ec117183f79642eff555ce0dd1823f942618d65813fb6122d14b6e34b5d05a (from https://pypi.org/simple/pywinpty/) (requires-python:>=3.6). Command errored out with exit status 1: 'c:\\programs\\anaconda3\\python.exe' 'c:\\programs\\anaconda3\\lib\\site-packages\\pip\\_vendor\\pep517\\in_process\\_in_process.py' prepare_metadata_for_build_wheel 'C:\\Users\\SID-DrW\\AppData\\Local\\Temp\\tmplb470pzc' Check the logs for full command output.\n",
      "  ERROR: Command errored out with exit status 1:\n",
      "   command: 'c:\\programs\\anaconda3\\python.exe' 'c:\\programs\\anaconda3\\lib\\site-packages\\pip\\_vendor\\pep517\\in_process\\_in_process.py' prepare_metadata_for_build_wheel 'C:\\Users\\SID-DrW\\AppData\\Local\\Temp\\tmpwllgsy9h'\n",
      "       cwd: C:\\Users\\SID-DrW\\AppData\\Local\\Temp\\pip-install-qre74170\\pywinpty_353e03350e8d46a9ace7e61af6e899f3\n",
      "  Complete output (6 lines):\n",
      "  \n",
      "  Cargo, the Rust package manager, is not installed or is not on PATH.\n",
      "  This package requires Rust and Cargo to compile extensions. Install it through\n",
      "  the system's package manager or via https://rustup.rs/\n",
      "  \n",
      "  Checking for Rust toolchain....\n",
      "  ----------------------------------------\n",
      "WARNING: Discarding https://files.pythonhosted.org/packages/b0/85/4a563e195fd5de30e4e18c51a4c398adbcbf656ca9166182ee44e2454719/pywinpty-2.0.1.tar.gz#sha256=14e7321c6d43743af0de175fca9f111c5cc8d0a9f7c608c9e1cc69ec0d6ac146 (from https://pypi.org/simple/pywinpty/) (requires-python:>=3.6). Command errored out with exit status 1: 'c:\\programs\\anaconda3\\python.exe' 'c:\\programs\\anaconda3\\lib\\site-packages\\pip\\_vendor\\pep517\\in_process\\_in_process.py' prepare_metadata_for_build_wheel 'C:\\Users\\SID-DrW\\AppData\\Local\\Temp\\tmpwllgsy9h' Check the logs for full command output.\n",
      "ERROR: Could not install packages due to an OSError: [WinError 5] Access is denied: 'c:\\\\programs\\\\anaconda3\\\\Lib\\\\site-packages\\\\tornado\\\\speedups.cp36-win_amd64.pyd'\n",
      "Consider using the `--user` option or check the permissions.\n",
      "\n"
     ]
    }
   ],
   "source": [
    "!pip install notebook --upgrade"
   ]
  },
  {
   "cell_type": "code",
   "execution_count": 1,
   "metadata": {},
   "outputs": [
    {
     "name": "stdout",
     "output_type": "stream",
     "text": [
      "Collecting tensorflow\n",
      "  Using cached https://files.pythonhosted.org/packages/91/68/c9ce4bd8989333cbb59b42c15d7a43e414d495dba3a21664411564c77b6a/tensorflow-2.6.2-cp36-cp36m-win_amd64.whl\n",
      "Collecting h5py~=3.1.0 (from tensorflow)\n",
      "  Downloading https://files.pythonhosted.org/packages/35/39/ceabe8fa912cb27ec9a0064fe01c1fde2f8b43e9f7e506207db0a0dcea0a/h5py-3.1.0-cp36-cp36m-win_amd64.whl (2.7MB)\n",
      "Collecting clang~=5.0 (from tensorflow)\n",
      "  Downloading https://files.pythonhosted.org/packages/32/12/e17c1220f8ca587add2e076ebb28b6c4551fcc730e3c69a5f49679ad28e9/clang-5.0.tar.gz\n",
      "Collecting keras-preprocessing~=1.1.2 (from tensorflow)\n",
      "  Using cached https://files.pythonhosted.org/packages/79/4c/7c3275a01e12ef9368a892926ab932b33bb13d55794881e3573482b378a7/Keras_Preprocessing-1.1.2-py2.py3-none-any.whl\n",
      "Collecting grpcio<2.0,>=1.37.0 (from tensorflow)\n",
      "  Downloading https://files.pythonhosted.org/packages/30/98/baa62c0b771cb20b0381896fb61926d9bec783fb446eaa53efd4e5c70e3b/grpcio-1.48.2-cp36-cp36m-win_amd64.whl (3.6MB)\n",
      "Collecting wrapt~=1.12.1 (from tensorflow)\n",
      "  Downloading https://files.pythonhosted.org/packages/82/f7/e43cefbe88c5fd371f4cf0cf5eb3feccd07515af9fd6cf7dbf1d1793a797/wrapt-1.12.1.tar.gz\n",
      "Collecting astunparse~=1.6.3 (from tensorflow)\n",
      "  Downloading https://files.pythonhosted.org/packages/2b/03/13dde6512ad7b4557eb792fbcf0c653af6076b81e5941d36ec61f7ce6028/astunparse-1.6.3-py2.py3-none-any.whl\n",
      "Collecting protobuf>=3.9.2 (from tensorflow)\n",
      "  Using cached https://files.pythonhosted.org/packages/6c/be/4e32d02bf08b8f76bf6e59f2a531690c1e4264530404501f3489ca975d9a/protobuf-4.21.0-py2.py3-none-any.whl\n"
     ]
    },
    {
     "name": "stderr",
     "output_type": "stream",
     "text": [
      "protobuf requires Python '>=3.7' but the running Python is 3.6.6\n",
      "You are using pip version 18.0, however version 21.3.1 is available.\n",
      "You should consider upgrading via the 'python -m pip install --upgrade pip' command.\n"
     ]
    }
   ],
   "source": [
    "!pip install tensorflow"
   ]
  },
  {
   "cell_type": "code",
   "execution_count": 5,
   "metadata": {
    "id": "02ZYZ-WmdhwH"
   },
   "outputs": [
    {
     "ename": "ModuleNotFoundError",
     "evalue": "No module named 'keras'",
     "output_type": "error",
     "traceback": [
      "\u001b[1;31m---------------------------------------------------------------------------\u001b[0m",
      "\u001b[1;31mModuleNotFoundError\u001b[0m                       Traceback (most recent call last)",
      "\u001b[1;32m<ipython-input-5-1768ab4dfe92>\u001b[0m in \u001b[0;36m<module>\u001b[1;34m()\u001b[0m\n\u001b[0;32m      1\u001b[0m \u001b[1;31m# imports\u001b[0m\u001b[1;33m\u001b[0m\u001b[1;33m\u001b[0m\u001b[0m\n\u001b[0;32m      2\u001b[0m \u001b[1;32mfrom\u001b[0m \u001b[0m__future__\u001b[0m \u001b[1;32mimport\u001b[0m \u001b[0mprint_function\u001b[0m\u001b[1;33m\u001b[0m\u001b[0m\n\u001b[1;32m----> 3\u001b[1;33m \u001b[1;32mimport\u001b[0m \u001b[0mkeras\u001b[0m\u001b[1;33m\u001b[0m\u001b[0m\n\u001b[0m\u001b[0;32m      4\u001b[0m \u001b[1;32mfrom\u001b[0m \u001b[0mkeras\u001b[0m \u001b[1;32mimport\u001b[0m \u001b[0mutils\u001b[0m \u001b[1;32mas\u001b[0m \u001b[0mnp_utils\u001b[0m\u001b[1;33m\u001b[0m\u001b[0m\n\u001b[0;32m      5\u001b[0m \u001b[1;32mimport\u001b[0m \u001b[0mtensorflow\u001b[0m\u001b[1;33m\u001b[0m\u001b[0m\n",
      "\u001b[1;31mModuleNotFoundError\u001b[0m: No module named 'keras'"
     ]
    }
   ],
   "source": [
    "# imports\n",
    "from __future__ import print_function\n",
    "import keras\n",
    "from keras import utils as np_utils\n",
    "import tensorflow\n",
    "from keras.datasets import mnist\n",
    "from keras.models import Sequential\n",
    "from keras.layers import Dense, Dropout, Flatten\n",
    "from keras.layers import Conv2D, MaxPooling2D\n",
    "from keras import backend as K\n",
    "import tensorflow as tf\n",
    "from matplotlib import pyplot as plt\n",
    "\n"
   ]
  },
  {
   "cell_type": "code",
   "execution_count": 15,
   "metadata": {
    "colab": {
     "base_uri": "https://localhost:8080/"
    },
    "id": "BJRCoRmew8Zd",
    "outputId": "8a74f963-06c8-4ba7-fb03-889e43dfa15e"
   },
   "outputs": [
    {
     "name": "stdout",
     "output_type": "stream",
     "text": [
      "Downloading data from https://storage.googleapis.com/tensorflow/tf-keras-datasets/mnist.npz\n",
      "11490434/11490434 [==============================] - 0s 0us/step\n"
     ]
    }
   ],
   "source": [
    "# Hyper-parameters data-loading and formatting\n",
    "\n",
    "batch_size = 128\n",
    "num_classes = 10\n",
    "epochs = 10\n",
    "\n",
    "img_rows, img_cols = 28, 28\n",
    "\n",
    "(x_train, lbl_train), (x_test, lbl_test) = mnist.load_data()\n",
    "\n",
    "if K.image_data_format() == 'channels_first':\n",
    "    x_train = x_train.reshape(x_train.shape[0], 1, img_rows, img_cols)\n",
    "    x_test = x_test.reshape(x_test.shape[0], 1, img_rows, img_cols)\n",
    "    input_shape = (1, img_rows, img_cols)\n",
    "else:\n",
    "    x_train = x_train.reshape(x_train.shape[0], img_rows, img_cols, 1)\n",
    "    x_test = x_test.reshape(x_test.shape[0], img_rows, img_cols, 1)\n",
    "    input_shape = (img_rows, img_cols, 1)"
   ]
  },
  {
   "cell_type": "markdown",
   "metadata": {
    "id": "-I3g1RrZ0wpI"
   },
   "source": [
    "**Preprocessing**"
   ]
  },
  {
   "cell_type": "code",
   "execution_count": 16,
   "metadata": {
    "id": "UswCCQLS0s1I"
   },
   "outputs": [],
   "source": [
    "x_train = x_train.astype('float32')\n",
    "x_test = x_test.astype('float32')\n",
    "\n",
    "x_train /= 255\n",
    "x_test /= 255\n",
    "\n",
    "y_train = keras.utils.np_utils.to_categorical(lbl_train, num_classes)\n",
    "y_test = keras.utils.np_utils.to_categorical(lbl_test, num_classes)\n"
   ]
  },
  {
   "cell_type": "code",
   "execution_count": null,
   "metadata": {
    "id": "N7Aer42gk1W9"
   },
   "outputs": [],
   "source": [
    "\n",
    "## Define model ##\n",
    "model = Sequential()\n",
    "\n",
    "model.add(Flatten())\n",
    "model.add(Dense(64, activation = 'relu'))\n",
    "model.add(Dense(64, activation = 'relu'))\n",
    "model.add(Dense(num_classes, activation='softmax'))\n",
    "\n",
    "\n",
    "model.compile(loss=keras.losses.categorical_crossentropy,\n",
    "               optimizer=tensorflow.keras.optimizers.SGD(learning_rate = 0.1),\n",
    "        metrics=['accuracy'],)\n",
    "\n",
    "fit_info = model.fit(x_train, y_train,\n",
    "           batch_size=batch_size,\n",
    "           epochs=epochs,\n",
    "           verbose=1,\n",
    "           validation_data=(x_test, y_test))\n",
    "score = model.evaluate(x_test, y_test, verbose=0)\n",
    "print('Test loss: {}, Test accuracy {}'.format(score[0], score[1]))"
   ]
  }
 ],
 "metadata": {
  "colab": {
   "collapsed_sections": [],
   "name": "Assignment_7_NN.ipynb",
   "provenance": []
  },
  "kernelspec": {
   "display_name": "Python 3",
   "language": "python",
   "name": "python3"
  },
  "language_info": {
   "codemirror_mode": {
    "name": "ipython",
    "version": 3
   },
   "file_extension": ".py",
   "mimetype": "text/x-python",
   "name": "python",
   "nbconvert_exporter": "python",
   "pygments_lexer": "ipython3",
   "version": "3.6.6"
  },
  "latex_envs": {
   "LaTeX_envs_menu_present": true,
   "autoclose": false,
   "autocomplete": true,
   "bibliofile": "biblio.bib",
   "cite_by": "apalike",
   "current_citInitial": 1,
   "eqLabelWithNumbers": true,
   "eqNumInitial": 1,
   "hotkeys": {
    "equation": "Ctrl-E",
    "itemize": "Ctrl-I"
   },
   "labels_anchors": false,
   "latex_user_defs": false,
   "report_style_numbering": false,
   "user_envs_cfg": false
  }
 },
 "nbformat": 4,
 "nbformat_minor": 1
}
