{
 "cells": [
  {
   "cell_type": "code",
   "execution_count": 2,
   "metadata": {},
   "outputs": [],
   "source": [
    "import numpy as np\n",
    "import pandas as pd\n",
    "import matplotlib.pyplot as plt"
   ]
  },
  {
   "cell_type": "code",
   "execution_count": 66,
   "metadata": {
    "scrolled": false
   },
   "outputs": [],
   "source": [
    "df1 = pd.read_csv(\"gdp-per-capita-maddison-2020 (1).csv\")\n",
    "df1 = df1[df1['Year'] == 2018]\n",
    "#print(df1)\n",
    "df1 = df1.drop(index=[16145, 17889, 19534, 19555, 19571, 19737])\n",
    "\n",
    "#print(df1)"
   ]
  },
  {
   "cell_type": "code",
   "execution_count": 67,
   "metadata": {
    "scrolled": false
   },
   "outputs": [],
   "source": [
    "df2 = pd.read_csv(\"life-expectancy.csv\")\n",
    "\n",
    "\n",
    "#print(df2)\n",
    "df2 = df2.drop(index=[144, 441, 1037, 5567, 7620, 9379, 9596, 9740, 9887, 10103, 10175, 10247, 10609, 10681, 12294, 13562, 13885, 15233, 16608, 19566, 20231])\n",
    "df2 = df2[df2['Year'] == 2018]\n",
    "df2 = df2.drop(index=[142, 439, 1035,20229, 19564 ])\n",
    "#print(df2)"
   ]
  },
  {
   "cell_type": "code",
   "execution_count": null,
   "metadata": {},
   "outputs": [],
   "source": []
  }
 ],
 "metadata": {
  "kernelspec": {
   "display_name": "Python 3",
   "language": "python",
   "name": "python3"
  },
  "language_info": {
   "codemirror_mode": {
    "name": "ipython",
    "version": 3
   },
   "file_extension": ".py",
   "mimetype": "text/x-python",
   "name": "python",
   "nbconvert_exporter": "python",
   "pygments_lexer": "ipython3",
   "version": "3.6.6"
  },
  "latex_envs": {
   "LaTeX_envs_menu_present": true,
   "autoclose": false,
   "autocomplete": true,
   "bibliofile": "biblio.bib",
   "cite_by": "apalike",
   "current_citInitial": 1,
   "eqLabelWithNumbers": true,
   "eqNumInitial": 1,
   "hotkeys": {
    "equation": "Ctrl-E",
    "itemize": "Ctrl-I"
   },
   "labels_anchors": false,
   "latex_user_defs": false,
   "report_style_numbering": false,
   "user_envs_cfg": false
  }
 },
 "nbformat": 4,
 "nbformat_minor": 2
}
